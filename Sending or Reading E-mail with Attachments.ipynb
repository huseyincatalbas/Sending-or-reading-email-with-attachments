{
 "cells": [
  {
   "cell_type": "markdown",
   "metadata": {},
   "source": [
    "##### Ad-Soyad = Hüseyin ÇATALBAŞ\n",
    "##### E-posta = hcatalbas@ceng.ktu.edu.tr\n",
    "##### Proje = Sending or Reading E-mail with Attachments\n"
   ]
  },
  {
   "cell_type": "markdown",
   "metadata": {},
   "source": [
    "# ---------------------------------------------------------------------------------------------------------------"
   ]
  },
  {
   "cell_type": "markdown",
   "metadata": {},
   "source": [
    "# Eklentili E-Posta Gönderme"
   ]
  },
  {
   "cell_type": "code",
   "execution_count": null,
   "metadata": {},
   "outputs": [],
   "source": [
    "from email.mime.multipart import MIMEMultipart#eklenti\n",
    "from email.mime.text import MIMEText#yazi\n",
    "from email.mime.base import MIMEBase#base\n",
    "from email import encoders#sifreleyici\n",
    "\n",
    "kullanici='e-posta@gmail.com'\n",
    "sifre='şifre'\n",
    "alici='eposta@gmail.com'\n",
    "mesaj='Python Eklentili Posta Gönderimi Deneme Mesaji'\n",
    "\n",
    "posta=MIMEMultipart()\n",
    "posta['From']=kullanici\n",
    "posta['To']=alici#birden fazla []içine ekleme yapılabilir.\n",
    "posta['Subject']=mesaj\n",
    "\n",
    "posta.attach(MIMEText(mesaj, 'plain'))\n",
    "eklenti_dosya_ismi='blur.jpg'#dizin yoluna dikkat edilmeli\n",
    "with(open(eklenti_dosya_ismi, 'rb')) as eklenti_dosyasi:#dosyayı açma işlemi\n",
    "    payload=MIMEBase('application', 'octate-stream')#dosya içeriği objesi\n",
    "    payload.set_payload((eklenti_dosyasi).read())#eklenti_dosyasi bit tipinde okunup aktarılıyor\n",
    "    encoders.encode_base64(payload)#resim dosyasını string hale çevirme\n",
    "    payload.add_header('Content-Decomposition', 'attachment', filename=eklenti_dosya_ismi)#header\n",
    "    posta.attach(payload)#objeyi attach ile ekleme\n",
    "    posta_str=posta.as_string()#diğer kullanici,alıcı, baslık ekleme\n",
    "    \n",
    "port=465\n",
    "host='smtp.gmail.com'\n",
    "eposta_sunucu=smtplib.SMTP_SSL(host=host, port=port, context=context)\n",
    "eposta_sunucu.login(kullanici, sifre)\n",
    "eposta_sunucu.sendmail(kullanici, alici, posta_str)"
   ]
  },
  {
   "cell_type": "markdown",
   "metadata": {},
   "source": [
    "# Gelen Kutusundaki Eklentili E-Postaları Filtreleyerek Okuma"
   ]
  },
  {
   "cell_type": "code",
   "execution_count": null,
   "metadata": {},
   "outputs": [],
   "source": [
    "from imap_tools import MailBox\n",
    "from imap_tools import AND\n",
    "import datetime\n",
    "\n",
    "kullanici='e-posta@gmail.com'\n",
    "sifre='şifre'\n",
    "    \n",
    "dosya_ismi='blur.jpg'\n",
    "\n",
    "posta_kutusu=MailBox('imap.gmail.com')\n",
    "posta_kutusu.login(kullanici, sifre, initial_folder='INBOX')#inbox yerine istediğimiz kısıma bakabiliyoruz.\n",
    "kriter=AND(date_gte=datetime.date(2021,1,1))#date_gte(date greater than equal)\n",
    "\n",
    "def dosya_isminden_bul(eposta_kutusu_param, dosya_ismi_param, kriter_param):\n",
    "    for mesaj in eposta_kutusu_param.fetch(kriter):\n",
    "        if mesaj.attachments:\n",
    "            for ek in mesaj.attachments:\n",
    "                if dosya_ismi_param==ek.filename:\n",
    "                    return('{} isimli dosya, {} tarihli ve {} baslikli e-postadır.'.format(\n",
    "                    dosya_ismi_param,\n",
    "                    mesaj.date_str,\n",
    "                    mesaj.subject\n",
    "                    ))\n",
    "    return ('{} isimli dosya, e-posta kutusunda bulunamadi'.format(dosya_ismi_param))\n",
    "dosya_isminden_bul(posta_kutusu, dosya_ismi, kriter)"
   ]
  }
 ],
 "metadata": {
  "kernelspec": {
   "display_name": "Python 3",
   "language": "python",
   "name": "python3"
  },
  "language_info": {
   "codemirror_mode": {
    "name": "ipython",
    "version": 3
   },
   "file_extension": ".py",
   "mimetype": "text/x-python",
   "name": "python",
   "nbconvert_exporter": "python",
   "pygments_lexer": "ipython3",
   "version": "3.8.5"
  }
 },
 "nbformat": 4,
 "nbformat_minor": 4
}
